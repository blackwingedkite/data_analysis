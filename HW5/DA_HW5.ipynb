{
 "cells": [
  {
   "cell_type": "markdown",
   "metadata": {
    "id": "0rrkjGTEBPGi"
   },
   "source": [
    "## B10703049 財金二 柯宥圻\n",
    "## Homework 5\n",
    "## Question 1\n",
    "The question ask us to find the proper packages in Python to perform LASSO and Ridge regression on the ORL face dataset.\n",
    "\n",
    "As we perform in Homework 2, we can see that the definition of these ORL face photos are 46*56, however, we have only 400 pictures, which means p >> n, and we can't get the result of this problem, because it will be infinity values, and it do not have the meanings from the perspective of linear algebra.\n",
    "\n",
    "Therefore, we should take some dimension reductions method to find the important pixels abd try to cut the redundant dimensions.\n",
    "\n",
    "We do the same things in Homework 2 first, decompose photos into 1-D vectors:"
   ]
  },
  {
   "cell_type": "code",
   "execution_count": 18,
   "metadata": {
    "colab": {
     "base_uri": "https://localhost:8080/"
    },
    "id": "mp5HCWjXDLvp",
    "outputId": "89d26bb5-1daf-43ab-90b7-5b7afab4e135"
   },
   "outputs": [
    {
     "name": "stdout",
     "output_type": "stream",
     "text": [
      "Drive already mounted at /content/drive; to attempt to forcibly remount, call drive.mount(\"/content/drive\", force_remount=True).\n"
     ]
    }
   ],
   "source": [
    "import numpy as np\n",
    "import pandas as pd\n",
    "import matplotlib.pyplot as plt\n",
    "from PIL import Image\n",
    "from google.colab import drive\n",
    "drive.mount('/content/drive')"
   ]
  },
  {
   "cell_type": "code",
   "execution_count": 19,
   "metadata": {
    "id": "q859mMJQDdhq"
   },
   "outputs": [],
   "source": [
    "gender = [0,1,1,1,1,1,1,0,1,0,1,0,1,1,1,1,1,1,1,1,1,1,1,1,1,1,1,1,1,1,1,0,1,1,1,1,1,1,1,1]\n",
    "data = []\n",
    "for i in range(1, 41):\n",
    "    for j in range(1,11):\n",
    "        image_dir = f\"/content/drive/MyDrive/DA/ORL Faces/{i}_{j}.png\"\n",
    "        img = Image.open(image_dir)\n",
    "        img_array = np.asarray(img)\n",
    "        img_array = np.append(img_array, gender[i-1])\n",
    "        data.append(img_array.flatten())\n",
    "data = np.array(data)\n",
    "data_transpose = np.transpose(data)"
   ]
  },
  {
   "cell_type": "markdown",
   "metadata": {
    "id": "GtDjdMZUDYO2"
   },
   "source": [
    "We take advantage of LASSO and use the Lasso to find the best pixels to detect the face is man or woman. The official document suggest me to use alpha = 0.1. Adter fitting X and y into lasso, it can calculate lasso.coef_ and we can find those parameters which is not 0. There are 201 non-0 parameters, and we present 50 parameters which is the largest. (regardless of the sign)\n",
    "\n",
    "After that, we use matplotlib.pyplot to generate the visualized scatter plot where indicates the pixels explaining most percent of the result. In other words, the machine can detect the sex of one photo by these important pixels."
   ]
  },
  {
   "cell_type": "code",
   "execution_count": 20,
   "metadata": {
    "colab": {
     "base_uri": "https://localhost:8080/",
     "height": 556
    },
    "id": "ZXl-eFKCDs68",
    "outputId": "144ead9b-7837-4fc7-c579-2501364ce438"
   },
   "outputs": [
    {
     "name": "stderr",
     "output_type": "stream",
     "text": [
      "/usr/local/lib/python3.9/dist-packages/sklearn/linear_model/_coordinate_descent.py:631: ConvergenceWarning: Objective did not converge. You might want to increase the number of iterations, check the scale of the features or consider increasing regularisation. Duality gap: 2.596e-02, tolerance: 4.375e-03\n",
      "  model = cd_fast.enet_coordinate_descent(\n"
     ]
    },
    {
     "name": "stdout",
     "output_type": "stream",
     "text": [
      "top_indices:  [  86   89 2157   44 1004  493   94 2116 1369  179 1730  139 1387  279\n",
      " 1795  554 2515 2030 1833 2167 1928  693  201 1062 1935  370 1845 1923\n",
      " 1427 2286 1069  241  245 1467  386 2485 1304 1475 2182  430  620 1223\n",
      "  486 1789 1560 1516  515 2253 2470 1151]\n"
     ]
    },
    {
     "data": {
      "image/png": "[encoded data removed]",
      "text/plain": [
       "<Figure size 640x480 with 1 Axes>"
      ]
     },
     "metadata": {},
     "output_type": "display_data"
    }
   ],
   "source": [
    "#LASSO\n",
    "# Separate features and labels\n",
    "X = data[:,:-1]\n",
    "y = data[:,-1]\n",
    "\n",
    "# Create Lasso model and train on the training set\n",
    "from sklearn.linear_model import Lasso\n",
    "lasso = Lasso(0.1)\n",
    "lasso.fit(X, y)\n",
    "\n",
    "top_indices = np.argsort(np.abs(lasso.coef_))[::-1][:50]\n",
    "print(\"top_indices: \", top_indices)\n",
    "\n",
    "plt.imshow(np.zeros((56, 46)), cmap=\"copper\")\n",
    "plt.scatter([num % 46 for num in top_indices],[num // 46 for num in top_indices], c=\"blue\", s=10)\n",
    "plt.show()"
   ]
  },
  {
   "cell_type": "markdown",
   "metadata": {
    "id": "pwM6dQPSM1pq"
   },
   "source": [
    "With similar concept, we can find the important pixeles with Ridge regression: "
   ]
  },
  {
   "cell_type": "code",
   "execution_count": 21,
   "metadata": {
    "colab": {
     "base_uri": "https://localhost:8080/",
     "height": 501
    },
    "id": "TPzU2QSxEC7E",
    "outputId": "a0743683-7f67-454c-c75a-f44516a8d719"
   },
   "outputs": [
    {
     "name": "stdout",
     "output_type": "stream",
     "text": [
      "top_indices:  [1069 2116 1151 2167 1004  370 2157 1105 2485 2310 1730 1928  873 2539\n",
      " 2045 1712 1311  324 1845  179 1772  693 1187 1773 1795 2346 1427 1291\n",
      " 1122 2264 1934 1210 1657 1891  554 2073   44  493  202 2111  645 1003\n",
      "  939 1758 2213 1974  183   45  132 2110]\n"
     ]
    },
    {
     "data": {
      "image/png": "[encoded data removed]",
      "text/plain": [
       "<Figure size 640x480 with 1 Axes>"
      ]
     },
     "metadata": {},
     "output_type": "display_data"
    }
   ],
   "source": [
    "X = data[:,:-1]\n",
    "y = data[:,-1]\n",
    "X_normal = (X - np.mean(X, axis=0)) / np.std(X, axis=0)\n",
    "\n",
    "from sklearn.linear_model import Ridge\n",
    "ridge = Ridge(1)\n",
    "ridge.fit(X_normal, y)\n",
    "\n",
    "top_indices = np.argsort(np.abs(ridge.coef_))[::-1][:50]\n",
    "print(\"top_indices: \", top_indices)\n",
    "\n",
    "plt.imshow(np.zeros((56, 46)), cmap=\"copper\")\n",
    "plt.scatter([num % 46 for num in top_indices],[num // 46 for num in top_indices], c=\"blue\", s=10)\n",
    "plt.show()"
   ]
  },
  {
   "cell_type": "markdown",
   "metadata": {
    "id": "2ohqtB1dOXtR"
   },
   "source": [
    "There are reasons why I chose alpha=0.1 for Lasso and alpha=1 for Ridge, but the specific values of alpha depend on the dataset, and I experiment with different values to find the best one for this problem.\n",
    "\n",
    "In general, the alpha parameter controls the strength of regularization in both Lasso and Ridge regression. A higher value of alpha leads to stronger regularization, which can help prevent overfitting. Conversely, a lower value of alpha leads to weaker regularization, which can allow the model to fit the training data more closely but may lead to overfitting if the value is too low.\n",
    "\n",
    "In previous examples, I chose alpha=0.1 for Lasso because I wanted to have a moderate level of regularization that would help prevent overfitting but still allow the model to fit the data fairly closely. For Ridge regression, I chose alpha=1 because Ridge tends to require higher values of alpha than Lasso to achieve similar levels of regularization."
   ]
  },
  {
   "cell_type": "markdown",
   "metadata": {
    "id": "av8Dp8zvO22h"
   },
   "source": [
    "In stepwise regression, we take quite a few minute to findout the best pixels in the photo, and it can't find 50 (or more) important pixels, because it will take too much time. However, in Ridge and Lasso, we can find the best 50 pixels in these photos, and they show quite similar important pixels. Due to the inconsistency of the stepwise regression, Lasso and RIdge, it is hard to find the different pattern among them."
   ]
  },
  {
   "cell_type": "markdown",
   "metadata": {
    "id": "1qR4z9lmPngU"
   },
   "source": [
    "### Qustion 2\n",
    "The core issue in this cobb-douglas production function is that we can use the logarithmic transformation of the production function to find the parameters beta0 and beta1. Taking the natural logarithm of both sides of the model, we get:\n",
    "\n",
    "log(V_t) = log(α) + beta0xlog(K_t) + beta1xlog(L_t) + log(η_t), where log(η_t) is the residual form, and it can be the residual between estimator and real value. Our goal is to let the η_t as small as possible.\n",
    "\n",
    "This is now a linear model in the parameters beta0 and beta1, with log(V_t), log(K_t), and log(L_t) as the independent variables. We can estimate them by fitting a linear regression model to the data, using Python.\n",
    "\n"
   ]
  },
  {
   "cell_type": "code",
   "execution_count": 22,
   "metadata": {
    "colab": {
     "base_uri": "https://localhost:8080/"
    },
    "id": "DoUGsDL8EdNm",
    "outputId": "dfb6804c-a1f1-48bd-daf3-395f7b839f20"
   },
   "outputs": [
    {
     "name": "stdout",
     "output_type": "stream",
     "text": [
      "                            OLS Regression Results                            \n",
      "==============================================================================\n",
      "Dep. Variable:            value_added   R-squared:                       0.818\n",
      "Model:                            OLS   Adj. R-squared:                  0.788\n",
      "Method:                 Least Squares   F-statistic:                     27.01\n",
      "Date:                Sat, 01 Apr 2023   Prob (F-statistic):           3.61e-05\n",
      "Time:                        12:49:14   Log-Likelihood:                 19.258\n",
      "No. Observations:                  15   AIC:                            -32.52\n",
      "Df Residuals:                      12   BIC:                            -30.39\n",
      "Df Model:                           2                                         \n",
      "Covariance Type:            nonrobust                                         \n",
      "==============================================================================\n",
      "                 coef    std err          t      P>|t|      [0.025      0.975]\n",
      "------------------------------------------------------------------------------\n",
      "const         -9.6262      2.897     -3.323      0.006     -15.938      -3.315\n",
      "capital        0.5081      0.501      1.014      0.331      -0.584       1.600\n",
      "labor          0.8430      0.417      2.021      0.066      -0.066       1.752\n",
      "==============================================================================\n",
      "Omnibus:                        6.596   Durbin-Watson:                   1.915\n",
      "Prob(Omnibus):                  0.037   Jarque-Bera (JB):                3.403\n",
      "Skew:                           1.008   Prob(JB):                        0.182\n",
      "Kurtosis:                       4.174   Cond. No.                     2.98e+03\n",
      "==============================================================================\n",
      "\n",
      "Notes:\n",
      "[1] Standard Errors assume that the covariance matrix of the errors is correctly specified.\n",
      "[2] The condition number is large, 2.98e+03. This might indicate that there are\n",
      "strong multicollinearity or other numerical problems.\n",
      "p = 0.5081151717950192\n",
      "q = 0.8430263473316515\n"
     ]
    },
    {
     "name": "stderr",
     "output_type": "stream",
     "text": [
      "/usr/local/lib/python3.9/dist-packages/scipy/stats/_stats_py.py:1736: UserWarning: kurtosistest only valid for n>=20 ... continuing anyway, n=15\n",
      "  warnings.warn(\"kurtosistest only valid for n>=20 ... continuing \"\n"
     ]
    }
   ],
   "source": [
    "import statsmodels.api as sm\n",
    "data = pd.read_csv(\"/content/drive/MyDrive/DA HW5-2.csv\")\n",
    "\n",
    "# Define the dependent variable and the independent variables\n",
    "y = np.log(data['value_added'])\n",
    "X = np.log(data[['capital', 'labor']])\n",
    "X = sm.add_constant(X)\n",
    "\n",
    "# Fit the linear regression model\n",
    "model = sm.OLS(y, X).fit()\n",
    "print(model.summary())\n",
    "print('p =', model.params['capital'])\n",
    "print('q =', model.params['labor'])"
   ]
  },
  {
   "cell_type": "markdown",
   "metadata": {
    "id": "pEkp7DkYmJ09"
   },
   "source": [
    "The Cobb-Douglas production function takes the form:\n",
    "V_t = α * K_t^beta0 * L_t^beta1 * η_t\n",
    "\n",
    "where:\n",
    "\n",
    "*   V_t is the total output (or value of production) at time t\n",
    "*   K_t is the amount of capital used at time t\n",
    "*   L_t is the amount of labor used at time t\n",
    "\n",
    "α and η_t are parameters that represent, respectively, the level of technology and the state of the natural environment at time t\n",
    "p and q are the exponents that determine the elasticity of output with respect to capital and labor, respectively.\n",
    "\n",
    "The output of this code is a summary of the linear regression model, including the estimates of beta0 and beta1, which are 0.5 and 0.84.\n"
   ]
  },
  {
   "cell_type": "markdown",
   "metadata": {
    "id": "nRISEzV3yiP0"
   },
   "source": [
    "However, we have a constraint: beta0 plus beta1 should equal to 1. This constraint implies that the elasticity of output with respect to capital is equal to 1 - the elasticity of output with respect to labor.\n",
    "Therefore, we use the minimize function in scipy.optimize package to find the beta0 and beta1 which is 1, adding together.\n"
   ]
  },
  {
   "cell_type": "code",
   "execution_count": 23,
   "metadata": {
    "colab": {
     "base_uri": "https://localhost:8080/"
    },
    "id": "sihphlN5FFGT",
    "outputId": "79669699-5366-4ae7-9d64-5761f3101d07"
   },
   "outputs": [
    {
     "name": "stdout",
     "output_type": "stream",
     "text": [
      "p = 0.016884631564150675\n",
      "q = 0.9831153684358492\n",
      "alpha = -4.713005373447837\n"
     ]
    }
   ],
   "source": [
    "from scipy.optimize import minimize\n",
    "def MSE(params):\n",
    "    alpha, p, q = params\n",
    "    errors = y - alpha - p*X['capital'] - q*X['labor']\n",
    "    return np.sum(errors**2)\n",
    "\n",
    "def constraint(params):\n",
    "    return params[1] + params[2] - 1\n",
    "\n",
    "problem = {'fun': MSE, 'x0': np.zeros(3), 'constraints': {'type': 'eq', 'fun': constraint}}\n",
    "result = minimize(**problem)\n",
    "alpha, p, q = result.x\n",
    "print(f'p = {p}')\n",
    "print(f'q = {q}')\n",
    "print(f'alpha = {alpha}')"
   ]
  },
  {
   "cell_type": "markdown",
   "metadata": {
    "id": "SXdVJbDZmkMB"
   },
   "source": [
    "When p and q are both between 0 and 1, the production function exhibits **diminishing marginal productivity**. That is, as more units of a factor of production are added, the additional output generated by each additional unit of that factor becomes smaller and smaller. This property is consistent with many observed production processes, where the productivity of labor and capital tends to decline as more of these inputs are used.\n",
    "\n",
    "In this case, the answer p and q (which is beta0 and beta1) are calculated under the constraints params[1] + params[2] - 1."
   ]
  },
  {
   "cell_type": "markdown",
   "metadata": {
    "id": "ojYr9l_v0EmM"
   },
   "source": [
    "### Question 3\n",
    "\n",
    "Perform Principal Component Analysis on the input data matrix X.\n",
    "\n",
    "Parameters:\n",
    "-----------\n",
    "X : array-like, shape (n_samples, n_features)\n",
    "    Input data matrix.\n",
    "isCorrMX : bool\n",
    "    If True, use correlation matrix for PCA, else use covariance matrix.\n",
    "\n",
    "Returns:\n",
    "--------\n",
    "loading_matrix : array-like, shape (n_features, n_components)\n",
    "    Loading matrix containing the eigenvectors of the selected components.\n",
    "eigenvalues : array-like, shape (n_components,)\n",
    "    Eigenvalues of the selected components.\n",
    "score_matrix : array-like, shape (n_samples, n_components)\n",
    "    Matrix of principal components.\n",
    "scree_plot : array-like, shape (n_components, 2)\n",
    "    Scree plot containing the eigenvalues and cumulative variance explained."
   ]
  },
  {
   "cell_type": "markdown",
   "metadata": {
    "id": "V9jCdL-H0nEO"
   },
   "source": [
    "The code performs principal component analysis (PCA) on the input data X. PCA is a technique used to reduce the dimensionality of a dataset by identifying the directions of maximum variance, called principal components, and projecting the data onto these components.\n",
    "\n",
    "The pca function takes in an input matrix X and a boolean isCorrMX, which determines whether to compute the covariance or correlation matrix, and the code computes the covariance or correlation matrix of the input matrix X, depending on the value of isCorrMX.\n",
    "\n",
    "Then, it computes the eigenvalues and eigenvectors of the covariance/correlation matrix using the NumPy linalg.eig function. It then sorts the eigenvalues and eigenvectors in descending order of eigenvalue magnitude and removes any imaginary components from the result using the np.real function.\n",
    "\n",
    "* The first principal component is stored in first_pc, and the matrix of eigenvectors, called the loading matrix, is stored in loading_matrix.\n",
    "\n",
    "* The score matrix is computed by projecting the input matrix X onto the principal components in the loading matrix.\n",
    "\n",
    "* The scree plot is computed by first initializing an array of zeros called scree_plot. The first column of this array is filled with the sorted eigenvalues, and the second column is filled with the cumulative sum of the eigenvalues divided by their sum.\n",
    "\n",
    "Last, we generates a scree plot of the eigenvalues using the Matplotlib library. The scree plot shows the variance explained by each principal component, as well as the cumulative percentage of variance explained by all the principal components up to that point."
   ]
  },
  {
   "cell_type": "markdown",
   "metadata": {
    "id": "PlW59oOr0Lrm"
   },
   "source": []
  },
  {
   "cell_type": "code",
   "execution_count": 24,
   "metadata": {
    "colab": {
     "base_uri": "https://localhost:8080/",
     "height": 1000
    },
    "id": "CyIwSkdGFZ5z",
    "outputId": "185d74e8-74df-439a-ae31-77e1d32c34dd"
   },
   "outputs": [
    {
     "name": "stdout",
     "output_type": "stream",
     "text": [
      "Loading Matrix:\n",
      " [[ 0.52106591 -0.37741762 -0.71956635  0.26128628]\n",
      " [-0.26934744 -0.92329566  0.24438178 -0.12350962]\n",
      " [ 0.5804131  -0.02449161  0.14212637 -0.80144925]\n",
      " [ 0.56485654 -0.06694199  0.63427274  0.52359713]]\n",
      "\n",
      "Eigenvalues:\n",
      " [2.91849782 0.91403047 0.14675688 0.02071484]\n",
      "\n",
      "Score Matrix:\n",
      " [[ 2.64026976e+00 -5.20404130e+00 -2.48862071e+00 -1.17033159e-01]\n",
      " [ 2.67073030e+00 -4.66690995e+00 -2.46689833e+00 -1.07535605e-01]\n",
      " [ 2.45460631e+00 -4.77363639e+00 -2.28832134e+00 -1.04349860e-01]\n",
      " [ 2.54551709e+00 -4.64846339e+00 -2.21237760e+00 -2.78417376e-01]\n",
      " [ 2.56122842e+00 -5.25862910e+00 -2.39222589e+00 -1.55512749e-01]\n",
      " [ 2.97594579e+00 -5.70732073e+00 -2.43724544e+00 -2.23766470e-01]\n",
      " [ 2.46315720e+00 -4.92969712e+00 -2.08984843e+00 -1.82965623e-01]\n",
      " [ 2.67313922e+00 -5.07641913e+00 -2.42688961e+00 -2.10955749e-01]\n",
      " [ 2.43713208e+00 -4.38587157e+00 -2.13155333e+00 -2.25827783e-01]\n",
      " [ 2.64535121e+00 -4.75499447e+00 -2.49167478e+00 -2.52391205e-01]\n",
      " [ 2.80076135e+00 -5.50437488e+00 -2.64140162e+00 -1.43494123e-01]\n",
      " [ 2.62696735e+00 -5.00338477e+00 -2.26876370e+00 -3.43357930e-01]\n",
      " [ 2.56213805e+00 -4.62247398e+00 -2.45836896e+00 -1.86023946e-01]\n",
      " [ 2.12748116e+00 -4.42641769e+00 -2.14122370e+00 -7.62323125e-02]\n",
      " [ 2.75425956e+00 -5.92498314e+00 -2.89855154e+00  1.64402277e-01]\n",
      " [ 2.88150922e+00 -6.27729552e+00 -2.55934973e+00 -4.68455461e-02]\n",
      " [ 2.74378055e+00 -5.69752408e+00 -2.49409599e+00  9.68132289e-02]\n",
      " [ 2.69675541e+00 -5.21073550e+00 -2.42519343e+00 -6.46734453e-02]\n",
      " [ 3.10271466e+00 -5.72152225e+00 -2.74098080e+00 -1.85389337e-01]\n",
      " [ 2.67399249e+00 -5.49017336e+00 -2.33766626e+00 -1.81871256e-01]\n",
      " [ 2.99764820e+00 -5.23228450e+00 -2.68629088e+00 -2.66731087e-01]\n",
      " [ 2.75741289e+00 -5.40453799e+00 -2.29867717e+00 -1.17160580e-01]\n",
      " [ 2.12063682e+00 -5.09786541e+00 -2.16124990e+00  6.05524379e-02]\n",
      " [ 3.03772014e+00 -5.04681224e+00 -2.30457733e+00 -1.75686868e-01]\n",
      " [ 2.80109128e+00 -5.01073225e+00 -2.22612579e+00 -5.83792704e-01]\n",
      " [ 2.83891951e+00 -4.70955003e+00 -2.51042969e+00 -2.41696826e-01]\n",
      " [ 2.84415184e+00 -5.09225669e+00 -2.28582243e+00 -1.86381247e-01]\n",
      " [ 2.75041766e+00 -5.24423222e+00 -2.54636470e+00 -1.71049455e-01]\n",
      " [ 2.71931109e+00 -5.14945349e+00 -2.58501552e+00 -7.85535688e-02]\n",
      " [ 2.62873024e+00 -4.78098388e+00 -2.24568342e+00 -3.44784634e-01]\n",
      " [ 2.70777158e+00 -4.72639607e+00 -2.34207824e+00 -3.06305044e-01]\n",
      " [ 2.99453689e+00 -5.24077457e+00 -2.58786161e+00 -1.72181053e-03]\n",
      " [ 2.53232354e+00 -5.79151542e+00 -2.46316291e+00 -2.97514941e-01]\n",
      " [ 2.66015291e+00 -6.00131531e+00 -2.60538000e+00 -9.89753805e-02]\n",
      " [ 2.70183686e+00 -4.76168867e+00 -2.42824751e+00 -2.00031492e-01]\n",
      " [ 2.55288478e+00 -4.88441252e+00 -2.51840388e+00  5.41809484e-02]\n",
      " [ 2.79065481e+00 -5.35255918e+00 -2.79065988e+00  6.76262779e-02]\n",
      " [ 2.45263618e+00 -5.21419314e+00 -2.38369653e+00 -2.34001090e-01]\n",
      " [ 2.35215603e+00 -4.47575198e+00 -2.12132779e+00 -1.58033820e-01]\n",
      " [ 2.72524581e+00 -5.11416089e+00 -2.49884625e+00 -1.84827121e-01]\n",
      " [ 2.58660751e+00 -5.17054457e+00 -2.36744943e+00 -1.06571487e-02]\n",
      " [ 2.64929148e+00 -3.87388097e+00 -2.30092439e+00  6.91125487e-03]\n",
      " [ 2.29828654e+00 -4.66041111e+00 -2.07245143e+00 -1.82735744e-01]\n",
      " [ 2.93018840e+00 -5.19797465e+00 -2.13452970e+00 -9.40127822e-02]\n",
      " [ 2.96264338e+00 -5.50666420e+00 -2.21738844e+00 -4.50091241e-01]\n",
      " [ 2.67510936e+00 -4.63586238e+00 -2.33151442e+00 -8.13045195e-02]\n",
      " [ 2.67554814e+00 -5.48592832e+00 -2.38688090e+00 -3.14375894e-01]\n",
      " [ 2.46054103e+00 -4.73834379e+00 -2.20215206e+00 -2.10623413e-01]\n",
      " [ 2.74865476e+00 -5.46663311e+00 -2.56944498e+00 -1.69622751e-01]\n",
      " [ 2.64203265e+00 -4.98164040e+00 -2.46554043e+00 -1.18459863e-01]\n",
      " [ 6.30429029e+00 -5.80529876e+00 -2.69896701e+00 -1.60000229e+00]\n",
      " [ 5.93205377e+00 -5.58064407e+00 -2.23222520e+00 -1.54412450e+00]\n",
      " [ 6.45168671e+00 -5.68681996e+00 -2.55959600e+00 -1.72171009e+00]\n",
      " [ 5.30232929e+00 -4.38436792e+00 -2.00247681e+00 -1.37211830e+00]\n",
      " [ 6.14994065e+00 -5.25151673e+00 -2.38772191e+00 -1.54873695e+00]\n",
      " [ 5.56207530e+00 -4.93374508e+00 -1.95313601e+00 -1.78234047e+00]\n",
      " [ 6.02558071e+00 -5.64682440e+00 -2.04397783e+00 -1.69053422e+00]\n",
      " [ 4.38700887e+00 -4.21302020e+00 -1.83606910e+00 -1.13730569e+00]\n",
      " [ 6.06214119e+00 -5.36819966e+00 -2.56209491e+00 -1.63967871e+00]\n",
      " [ 5.03671489e+00 -4.64470594e+00 -1.63963956e+00 -1.36740339e+00]\n",
      " [ 4.66293706e+00 -3.88634202e+00 -1.97735317e+00 -1.22206307e+00]\n",
      " [ 5.55126638e+00 -5.19992865e+00 -1.96395629e+00 -1.40963094e+00]\n",
      " [ 5.42034003e+00 -4.46066457e+00 -2.57697999e+00 -1.38620333e+00]\n",
      " [ 5.91613520e+00 -5.18863421e+00 -2.12467182e+00 -1.79810706e+00]\n",
      " [ 4.96066218e+00 -4.96629044e+00 -1.98465493e+00 -1.09951574e+00]\n",
      " [ 6.00078133e+00 -5.59239643e+00 -2.55017319e+00 -1.42560244e+00]\n",
      " [ 5.56907053e+00 -5.09405085e+00 -1.70544847e+00 -1.72845160e+00]\n",
      " [ 5.23949444e+00 -4.84927804e+00 -2.29666319e+00 -1.58036032e+00]\n",
      " [ 6.09718803e+00 -4.58186489e+00 -2.33269370e+00 -1.47287213e+00]\n",
      " [ 5.12955378e+00 -4.59093126e+00 -2.16662428e+00 -1.39526609e+00]\n",
      " [ 6.01510170e+00 -5.41936534e+00 -1.63952229e+00 -1.75812327e+00]\n",
      " [ 5.48029512e+00 -5.07246632e+00 -2.31202573e+00 -1.27710134e+00]\n",
      " [ 6.30065563e+00 -4.90639199e+00 -2.27448526e+00 -1.80437609e+00]\n",
      " [ 5.83009863e+00 -5.08291625e+00 -2.27596455e+00 -1.89047552e+00]\n",
      " [ 5.78380408e+00 -5.28536865e+00 -2.46081955e+00 -1.45150119e+00]\n",
      " [ 5.97560948e+00 -5.46232510e+00 -2.50265473e+00 -1.43938011e+00]\n",
      " [ 6.36585739e+00 -5.36294614e+00 -2.63859381e+00 -1.68300063e+00]\n",
      " [ 6.54542089e+00 -5.53484443e+00 -2.29905372e+00 -1.73704189e+00]\n",
      " [ 5.80443164e+00 -5.15268833e+00 -2.01771319e+00 -1.61158612e+00]\n",
      " [ 4.86607473e+00 -4.70451174e+00 -2.33442055e+00 -1.11326844e+00]\n",
      " [ 5.04634062e+00 -4.45841077e+00 -2.13331845e+00 -1.32889884e+00]\n",
      " [ 4.93181366e+00 -4.44926741e+00 -2.21095837e+00 -1.30111362e+00]\n",
      " [ 5.23638313e+00 -4.85776811e+00 -2.19823392e+00 -1.31535105e+00]\n",
      " [ 6.26303464e+00 -4.98941836e+00 -1.91788645e+00 -2.01539403e+00]\n",
      " [ 5.46485735e+00 -5.01856732e+00 -1.56153520e+00 -1.78070885e+00]\n",
      " [ 5.72624357e+00 -5.62103036e+00 -1.83209502e+00 -1.62098122e+00]\n",
      " [ 6.23139091e+00 -5.60643811e+00 -2.44410801e+00 -1.61367750e+00]\n",
      " [ 5.95134726e+00 -4.69609866e+00 -2.52127935e+00 -1.48366897e+00]\n",
      " [ 5.22393398e+00 -5.07086581e+00 -1.88915356e+00 -1.51259133e+00]\n",
      " [ 5.24845980e+00 -4.56902705e+00 -1.95360046e+00 -1.39682022e+00]\n",
      " [ 5.39720464e+00 -4.66445906e+00 -1.93573900e+00 -1.78211059e+00]\n",
      " [ 5.83115914e+00 -5.27851462e+00 -2.11444628e+00 -1.73031310e+00]\n",
      " [ 5.32135918e+00 -4.76788771e+00 -2.20845946e+00 -1.38314501e+00]\n",
      " [ 4.46605021e+00 -4.15843239e+00 -1.93246391e+00 -1.09882610e+00]\n",
      " [ 5.36277953e+00 -4.79632627e+00 -1.94825546e+00 -1.55568336e+00]\n",
      " [ 5.27759623e+00 -5.10436253e+00 -2.01032484e+00 -1.61896734e+00]\n",
      " [ 5.36101663e+00 -5.01872716e+00 -1.97133574e+00 -1.55425666e+00]\n",
      " [ 5.67959090e+00 -5.20988513e+00 -2.31690628e+00 -1.50375845e+00]\n",
      " [ 4.34664904e+00 -4.38018000e+00 -1.93475483e+00 -8.04604912e-01]\n",
      " [ 5.32991006e+00 -4.92394844e+00 -2.00998656e+00 -1.46176077e+00]\n",
      " [ 7.28848862e+00 -5.73891128e+00 -1.28836809e+00 -2.26118082e+00]\n",
      " [ 6.32827842e+00 -4.93401743e+00 -1.58369136e+00 -1.91057215e+00]\n",
      " [ 7.50216166e+00 -5.73463072e+00 -2.20525744e+00 -2.14439284e+00]\n",
      " [ 6.76866278e+00 -5.31293698e+00 -1.88696227e+00 -2.25771527e+00]\n",
      " [ 7.18796645e+00 -5.51242518e+00 -1.72430299e+00 -2.16865997e+00]\n",
      " [ 8.16898378e+00 -5.94048365e+00 -2.46555216e+00 -2.57476417e+00]\n",
      " [ 5.45196942e+00 -4.38159908e+00 -1.19708836e+00 -1.74487776e+00]\n",
      " [ 7.69601786e+00 -5.70749872e+00 -2.50704016e+00 -2.55744346e+00]\n",
      " [ 7.20091074e+00 -5.09948408e+00 -2.24411625e+00 -2.26408676e+00]\n",
      " [ 7.73468502e+00 -6.35802499e+00 -1.84845064e+00 -2.14322098e+00]\n",
      " [ 6.61483649e+00 -5.66655179e+00 -1.90176964e+00 -1.73706685e+00]\n",
      " [ 6.75700058e+00 -5.16536632e+00 -1.98700589e+00 -1.91409023e+00]\n",
      " [ 7.11367664e+00 -5.61160879e+00 -2.04623808e+00 -1.90219903e+00]\n",
      " [ 6.32848566e+00 -4.71586158e+00 -1.51139644e+00 -1.77949422e+00]\n",
      " [ 6.58377194e+00 -5.05981799e+00 -1.24211681e+00 -1.66112454e+00]\n",
      " [ 6.84826948e+00 -5.65379095e+00 -1.61110591e+00 -1.76640619e+00]\n",
      " [ 6.78789991e+00 -5.47830091e+00 -2.02065000e+00 -2.13766405e+00]\n",
      " [ 8.12013938e+00 -6.72600530e+00 -2.26436346e+00 -2.67522845e+00]\n",
      " [ 8.61592459e+00 -5.62964303e+00 -2.46576905e+00 -2.63494705e+00]\n",
      " [ 6.28318140e+00 -4.51862717e+00 -2.11771725e+00 -1.92585401e+00]\n",
      " [ 7.34096767e+00 -5.85229640e+00 -1.91403854e+00 -1.95634275e+00]\n",
      " [ 6.13753352e+00 -4.95265935e+00 -1.38033791e+00 -1.76253081e+00]\n",
      " [ 8.27651552e+00 -5.78932124e+00 -2.63559978e+00 -2.65643826e+00]\n",
      " [ 6.41624310e+00 -5.11113372e+00 -2.03532708e+00 -1.67199887e+00]\n",
      " [ 7.09684844e+00 -5.85575405e+00 -1.87254164e+00 -2.12567039e+00]\n",
      " [ 7.38898311e+00 -5.93939817e+00 -2.40440690e+00 -2.38019020e+00]\n",
      " [ 6.27916046e+00 -5.16327236e+00 -1.95314490e+00 -1.63033354e+00]\n",
      " [ 6.23122569e+00 -5.31263889e+00 -1.81809928e+00 -1.76130902e+00]\n",
      " [ 7.01716108e+00 -5.27843177e+00 -1.79307526e+00 -2.06215654e+00]\n",
      " [ 7.21379867e+00 -5.73645232e+00 -2.60856308e+00 -2.29991786e+00]\n",
      " [ 7.71546223e+00 -5.65470679e+00 -2.56843297e+00 -2.30631431e+00]\n",
      " [ 7.93725733e+00 -6.78075294e+00 -2.57776919e+00 -2.48725585e+00]\n",
      " [ 7.07364673e+00 -5.28512597e+00 -1.72964798e+00 -2.00979683e+00]\n",
      " [ 6.33593402e+00 -5.18827901e+00 -2.17274545e+00 -2.00171883e+00]\n",
      " [ 6.51931122e+00 -4.93368796e+00 -2.07007262e+00 -2.48235849e+00]\n",
      " [ 8.04385513e+00 -5.97936800e+00 -2.48171743e+00 -2.04319150e+00]\n",
      " [ 6.97290298e+00 -5.81475000e+00 -1.38420773e+00 -2.00531180e+00]\n",
      " [ 6.70885857e+00 -5.53288871e+00 -1.92425518e+00 -2.17614364e+00]\n",
      " [ 6.12107778e+00 -5.27244797e+00 -1.76035528e+00 -1.70729272e+00]\n",
      " [ 7.08080718e+00 -5.73923095e+00 -2.10796917e+00 -1.80827644e+00]\n",
      " [ 7.26213358e+00 -5.68872835e+00 -1.74534881e+00 -1.86374440e+00]\n",
      " [ 7.01965456e+00 -5.74527187e+00 -2.02375254e+00 -1.46312224e+00]\n",
      " [ 6.32827842e+00 -4.93401743e+00 -1.58369136e+00 -1.91057215e+00]\n",
      " [ 7.40494370e+00 -5.81945296e+00 -1.81365663e+00 -2.14276122e+00]\n",
      " [ 7.32279105e+00 -5.88253084e+00 -1.61883254e+00 -1.91623154e+00]\n",
      " [ 7.00041743e+00 -5.57990794e+00 -1.89006481e+00 -1.58317345e+00]\n",
      " [ 6.58463955e+00 -4.93561795e+00 -2.00656353e+00 -1.67508216e+00]\n",
      " [ 6.72674729e+00 -5.48434182e+00 -1.93643336e+00 -1.79250985e+00]\n",
      " [ 6.74822812e+00 -5.76541572e+00 -1.40410365e+00 -1.92351029e+00]\n",
      " [ 6.24309512e+00 -5.24205369e+00 -1.64576073e+00 -1.97385612e+00]]\n",
      "\n",
      "Scree Plot:\n",
      " [[2.91849782 0.72962445]\n",
      " [0.91403047 0.95813207]\n",
      " [0.14675688 0.99482129]\n",
      " [0.02071484 1.        ]]\n"
     ]
    },
    {
     "data": {
      "image/png": "[encoded data removed]",
      "text/plain": [
       "<Figure size 640x480 with 2 Axes>"
      ]
     },
     "metadata": {},
     "output_type": "display_data"
    }
   ],
   "source": [
    "# Question 5-3\n",
    "def pca(X, isCorrMX=True):\n",
    "\n",
    "    # Compute the covariance/correlation matrix\n",
    "    if isCorrMX:\n",
    "        cov_mx = np.corrcoef(X.T)\n",
    "    else:\n",
    "        cov_mx = np.cov(X.T)\n",
    "    \n",
    "    eigvals, eigvecs = np.linalg.eig(cov_mx)\n",
    "    sort_idx = np.argsort(eigvals)[::-1]\n",
    "    eigvals = np.real(eigvals[sort_idx])\n",
    "    eigvecs = np.real(eigvecs[:, sort_idx])\n",
    "    first_pc = eigvecs[:, 0]\n",
    "    loading_matrix = eigvecs\n",
    "\n",
    "    # Compute the score matrix\n",
    "    score_matrix = np.dot(X, loading_matrix)\n",
    "\n",
    "    # Compute the scree plot\n",
    "    scree_plot = np.zeros((len(eigvals), 2))\n",
    "    scree_plot[:, 0] = eigvals\n",
    "    scree_plot[:, 1] = np.cumsum(eigvals) / np.sum(eigvals)\n",
    "\n",
    "    # draw\n",
    "    vectors = []\n",
    "    for i in range(len(scree_plot[:, 0])):\n",
    "        vectors.append(i+1)\n",
    "    fig, ax1 = plt.subplots()\n",
    "    ax1.set_xlabel('vectors')\n",
    "    ax1.bar(vectors,scree_plot[:, 0],color='b',width=0.5)\n",
    "    ax1.set_ylabel('variance',color='b')\n",
    "    ax1.tick_params('y', colors='b')\n",
    "    ax2 = ax1.twinx()\n",
    "    ax2.plot(vectors,scree_plot[:, 1],'r-')\n",
    "    ax2.set_ylabel('cumulative percentage',color='r')\n",
    "    ax2.tick_params('y', colors='r')\n",
    "    return loading_matrix, eigvals, score_matrix, scree_plot\n",
    "\n",
    "from sklearn.datasets import load_iris\n",
    "iris = load_iris()\n",
    "X = iris.data\n",
    "\n",
    "# Apply PCA using our custom function\n",
    "loading_matrix, eigenvalues, score_matrix, scree_plot = pca(X, isCorrMX=True)\n",
    "\n",
    "# Print the results\n",
    "print(\"Loading Matrix:\\n\", loading_matrix)\n",
    "print(\"\\nEigenvalues:\\n\", eigenvalues)\n",
    "print(\"\\nScore Matrix:\\n\", score_matrix)\n",
    "print(\"\\nScree Plot:\\n\", scree_plot)\n",
    "plt.show()"
   ]
  },
  {
   "cell_type": "markdown",
   "metadata": {
    "id": "SiRK03oK0-x-"
   },
   "source": [
    "We use the Iris dataset to see whether it performs well. It seems to be great!\n",
    "Then, we download autompg dataset and see if the function performs great as well, and we need to see whether PCA is scale-relevant.\n",
    "\n",
    "The following two parts are just easy function to find how many elements we need to explain certain percentage of the model, and draw the plot."
   ]
  },
  {
   "cell_type": "code",
   "execution_count": 25,
   "metadata": {
    "id": "vTu_woOHX5fI"
   },
   "outputs": [],
   "source": [
    "def edge(datas):\n",
    "    criteria = []\n",
    "    for i, element in enumerate(datas):\n",
    "        if element >= 0.5 and len(criteria) == 0:\n",
    "            criteria.append(i+1)\n",
    "        if element >= 0.6 and len(criteria) == 1:\n",
    "            criteria.append(i+1)\n",
    "        if element >= 0.7 and len(criteria) == 2:\n",
    "            criteria.append(i+1)\n",
    "        if element >= 0.8 and len(criteria) == 3:\n",
    "            criteria.append(i+1)\n",
    "        if element >= 0.9 and len(criteria) == 4:\n",
    "            criteria.append(i+1)\n",
    "            break\n",
    "    return criteria"
   ]
  },
  {
   "cell_type": "code",
   "execution_count": 26,
   "metadata": {
    "id": "TmFHeUZoYcmS"
   },
   "outputs": [],
   "source": [
    "def draw_picture(PC):\n",
    "    first_PC = PC[:, 0]\n",
    "    min_value = np.min(first_PC)\n",
    "    max_value = np.max(first_PC)\n",
    "    scaled_pc = (first_PC - min_value) * (255 / (max_value - min_value))\n",
    "    scaled_pc_2D = scaled_pc.reshape(56,46)\n",
    "    img = Image.fromarray(scaled_pc_2D.astype('uint8'))\n",
    "    img.show() "
   ]
  },
  {
   "cell_type": "markdown",
   "metadata": {
    "id": "qeHi835_1rOZ"
   },
   "source": [
    "We read autompg dataset, drop the irrevelant part, and print the matrices."
   ]
  },
  {
   "cell_type": "code",
   "execution_count": 27,
   "metadata": {
    "colab": {
     "base_uri": "https://localhost:8080/",
     "height": 1000
    },
    "id": "n3n4e59Tgizx",
    "outputId": "3f015cd0-b172-4d64-d255-ee1347f49b29"
   },
   "outputs": [
    {
     "name": "stdout",
     "output_type": "stream",
     "text": [
      "     cylinders  displacement  horsepower  weight  acceleration  model year  \\\n",
      "0          8.0         307.0       130.0  3504.0          12.0        70.0   \n",
      "1          8.0         350.0       165.0  3693.0          11.5        70.0   \n",
      "2          8.0         318.0       150.0  3436.0          11.0        70.0   \n",
      "3          8.0         304.0       150.0  3433.0          12.0        70.0   \n",
      "4          8.0         302.0       140.0  3449.0          10.5        70.0   \n",
      "..         ...           ...         ...     ...           ...         ...   \n",
      "393        4.0         140.0        86.0  2790.0          15.6        82.0   \n",
      "394        4.0          97.0        52.0  2130.0          24.6        82.0   \n",
      "395        4.0         135.0        84.0  2295.0          11.6        82.0   \n",
      "396        4.0         120.0        79.0  2625.0          18.6        82.0   \n",
      "397        4.0         119.0        82.0  2720.0          19.4        82.0   \n",
      "\n",
      "     origin  \n",
      "0       1.0  \n",
      "1       1.0  \n",
      "2       1.0  \n",
      "3       1.0  \n",
      "4       1.0  \n",
      "..      ...  \n",
      "393     1.0  \n",
      "394     2.0  \n",
      "395     1.0  \n",
      "396     1.0  \n",
      "397     1.0  \n",
      "\n",
      "[392 rows x 7 columns]\n",
      "0      18.0\n",
      "1      15.0\n",
      "2      18.0\n",
      "3      16.0\n",
      "4      17.0\n",
      "       ... \n",
      "393    27.0\n",
      "394    44.0\n",
      "395    32.0\n",
      "396    28.0\n",
      "397    31.0\n",
      "Name: mpg, Length: 392, dtype: float64\n",
      "Loading Matrix:\n",
      " [[ 0.43811814  0.12021354 -0.02552952  0.24087119  0.70016012 -0.19483078\n",
      "  -0.45469472]\n",
      " [ 0.45336563  0.10744276 -0.02219632  0.15933085  0.17628654 -0.06371028\n",
      "   0.84964741]\n",
      " [ 0.43755745 -0.14243991 -0.17850576  0.12458174 -0.57939323 -0.61360775\n",
      "  -0.16928806]\n",
      " [ 0.43194636  0.20277538  0.01259408  0.33522884 -0.34853612  0.70776776\n",
      "  -0.19327408]\n",
      " [-0.29770757  0.48218575  0.55906361  0.52733279 -0.12091625 -0.270696\n",
      "   0.01838595]\n",
      " [-0.21473281  0.6424978  -0.73184478  0.02888161 -0.02423084 -0.06313227\n",
      "   0.00909099]\n",
      " [-0.29956291 -0.51700218 -0.34450506  0.71399002  0.07947985  0.05718642\n",
      "   0.07012841]]\n",
      "\n",
      "Eigenvalues:\n",
      " [4.61205914 0.94003231 0.7441651  0.4813097  0.12956905 0.05915951\n",
      " 0.0337052 ]\n",
      "\n",
      "Score Matrix:\n",
      " [[ 1694.20736977   776.19845477   -30.95947134 ... -1239.93812399\n",
      "   2371.52108618  -441.10850558]\n",
      " [ 1810.80331919   813.91655078   -36.06086524 ... -1318.44943498\n",
      "   2481.20872671  -447.03674351]\n",
      " [ 1678.8708956    760.26061533   -36.18920724 ... -1225.76546384\n",
      "   2310.69060646  -422.02389356]\n",
      " ...\n",
      " [ 1069.66750185   526.15134549   -43.06032794 ...  -825.27019049\n",
      "   1555.14400728  -343.8717273 ]\n",
      " [ 1201.1375771    595.54307954   -33.76536208 ...  -940.88085725\n",
      "   1790.83618829  -419.42174361]\n",
      " [ 1242.79362231   614.65772683   -32.63499439 ...  -976.00298828\n",
      "   1856.08045547  -439.12558423]]\n",
      "\n",
      "Scree Plot:\n",
      " [[4.61205914 0.65886559]\n",
      " [0.94003231 0.79315592]\n",
      " [0.7441651  0.89946522]\n",
      " [0.4813097  0.96822375]\n",
      " [0.12956905 0.98673361]\n",
      " [0.05915951 0.99518497]\n",
      " [0.0337052  1.        ]]\n"
     ]
    },
    {
     "data": {
      "image/png": "[encoded data removed]",
      "text/plain": [
       "<Figure size 640x480 with 2 Axes>"
      ]
     },
     "metadata": {},
     "output_type": "display_data"
    },
    {
     "name": "stdout",
     "output_type": "stream",
     "text": [
      "Loading Matrix:\n",
      " [[ 1.79262233e-03 -1.33244815e-02 -7.29209804e-03  1.42837791e-03\n",
      "  -1.71683641e-02  2.85519196e-01 -9.58096063e-01]\n",
      " [ 1.14341275e-01 -9.45778439e-01 -3.03257047e-01 -9.20994584e-03\n",
      "   1.06092977e-02  2.34681580e-03  1.61707371e-02]\n",
      " [ 3.89670355e-02 -2.98248416e-01  9.48713803e-01 -4.30779415e-02\n",
      "   8.64404757e-02 -9.42467988e-03 -7.42175636e-03]\n",
      " [ 9.92673415e-01  1.20752748e-01 -2.45320521e-03  1.48633490e-03\n",
      "  -3.15267236e-03  1.19678424e-04  2.91024612e-04]\n",
      " [-1.35283460e-03  3.48258394e-02 -7.70032425e-02  5.95372077e-02\n",
      "   9.94496232e-01  3.20939275e-03 -1.66762346e-02]\n",
      " [-1.33684138e-03  2.38516836e-02 -4.28162289e-02 -9.97249604e-01\n",
      "   5.55064333e-02 -8.78813785e-04 -2.75161323e-03]\n",
      " [-5.51538021e-04  3.24298106e-03  1.24643867e-02 -1.94075866e-03\n",
      "   2.65997449e-03  9.58317990e-01  2.85393774e-01]]\n",
      "\n",
      "Eigenvalues:\n",
      " [7.32151674e+05 1.51397202e+03 2.61244860e+02 1.09726327e+01\n",
      " 2.87874868e+00 3.78992691e-01 2.64153387e-01]\n",
      "\n",
      "Score Matrix:\n",
      " [[ 3.51840011e+03  9.59755308e+01  1.76698025e+01 ...  1.91320705e+01\n",
      "   3.13408457e+00 -2.75276426e+00]\n",
      " [ 3.71229658e+03  6.76732200e+01  3.74095785e+01 ...  2.15205837e+01\n",
      "   2.92614838e+00 -2.25384227e+00]\n",
      " [ 3.45293676e+03  7.13609870e+01  3.35520723e+01 ...  2.01974677e+01\n",
      "   2.96005842e+00 -2.72643472e+00]\n",
      " ...\n",
      " [ 2.29677609e+03  1.26704364e+02  2.87012798e+01 ...  1.74795424e+01\n",
      "   1.86537001e+00 -1.73854362e+00]\n",
      " [ 2.62243890e+03  1.82474471e+02  2.71579860e+01 ...  2.28092923e+01\n",
      "   1.93925080e+00 -1.96469142e+00]\n",
      " [ 2.71674435e+03  1.94024876e+02  3.00127274e+01 ...  2.35540976e+01\n",
      "   1.92256691e+00 -1.98882107e+00]]\n",
      "\n",
      "Scree Plot:\n",
      " [[7.32151674e+05 9.97561506e-01]\n",
      " [1.51397202e+03 9.99624303e-01]\n",
      " [2.61244860e+02 9.99980251e-01]\n",
      " [1.09726327e+01 9.99995201e-01]\n",
      " [2.87874868e+00 9.99999124e-01]\n",
      " [3.78992691e-01 9.99999640e-01]\n",
      " [2.64153387e-01 1.00000000e+00]]\n"
     ]
    },
    {
     "data": {
      "image/png": "[encoded data removed]",
      "text/plain": [
       "<Figure size 640x480 with 2 Axes>"
      ]
     },
     "metadata": {},
     "output_type": "display_data"
    }
   ],
   "source": [
    "# Question 5-3-b\n",
    "\n",
    "df = pd.read_csv('/content/drive/MyDrive/DA/auto-mpg.csv')\n",
    "df.replace('?', np.nan, inplace=True)\n",
    "df.dropna(inplace=True)\n",
    "autompg_variables = df.drop(['mpg','car name'], axis=1)\n",
    "autompg_mpg = df['mpg']\n",
    "autompg_variables = pd.DataFrame(autompg_variables, dtype=float)\n",
    "print(autompg_variables)\n",
    "print(autompg_mpg)\n",
    "\n",
    "loading_matrix, eigenvalues, score_matrix, scree_plot = pca(autompg_variables, isCorrMX=True)\n",
    "print(\"Loading Matrix:\\n\", loading_matrix)\n",
    "print(\"\\nEigenvalues:\\n\", eigenvalues)\n",
    "print(\"\\nScore Matrix:\\n\", score_matrix)\n",
    "print(\"\\nScree Plot:\\n\", scree_plot)\n",
    "plt.show()\n",
    "#[:, 0]\n",
    "loading_matrix, eigenvalues, score_matrix, scree_plot = pca(autompg_variables, isCorrMX=False)\n",
    "print(\"Loading Matrix:\\n\", loading_matrix)\n",
    "print(\"\\nEigenvalues:\\n\", eigenvalues)\n",
    "print(\"\\nScore Matrix:\\n\", score_matrix)\n",
    "print(\"\\nScree Plot:\\n\", scree_plot)\n",
    "plt.show()"
   ]
  },
  {
   "cell_type": "markdown",
   "metadata": {
    "id": "x3OxdnqUlOGz"
   },
   "source": [
    "PCA is **not scale-invariant**, which means that the results of PCA can be affected by the scale of the input data. This is because PCA is based on the covariance matrix or correlation matrix, which are sensitive to changes in the scale of the input variables.\n",
    "\n",
    "Using cov_mx = np.cov(iris.data.T) or cov_mx = np.corrcoef(iris.data.T) to calculate the covariance or correlation matrix can produce different results, depending on the scale of the input data.\n",
    "\n",
    "It is generally a good practice to standardize the input data before performing PCA, to ensure that the results are not affected by the scale of the variables. Standardization involves subtracting the mean and dividing by the standard deviation of each variable, so that each variable has a mean of 0 and standard deviation of 1."
   ]
  },
  {
   "cell_type": "markdown",
   "metadata": {
    "id": "T_UreBUB2Dzk"
   },
   "source": [
    "### Question 4\n",
    "We use the ORL face dataset again, and find how many elements we need to explain certain percentage of total variances, Then, we try to rescale the first PC into the range of [0,255] and reshape it to 46X56 natrix. Plot an image from the 2d matri as the grayscale values.Ideally, we can get a person-like vague pictures."
   ]
  },
  {
   "cell_type": "code",
   "execution_count": 28,
   "metadata": {
    "colab": {
     "base_uri": "https://localhost:8080/",
     "height": 1000
    },
    "id": "z4vnw7oTFuFV",
    "outputId": "26f7ed3c-2883-4391-da40-7576b0fd6cfa"
   },
   "outputs": [
    {
     "name": "stdout",
     "output_type": "stream",
     "text": [
      "Loading Matrix:\n",
      " [[ 0.01757966  0.02796559  0.03828835 ... -0.00041141 -0.00476833\n",
      "  -0.00197805]\n",
      " [ 0.01751104  0.02819481  0.03836737 ...  0.00711484 -0.0038529\n",
      "   0.00010225]\n",
      " [ 0.01808453  0.02765299  0.03859395 ... -0.00982114 -0.0011989\n",
      "  -0.05162485]\n",
      " ...\n",
      " [-0.0159241   0.00522833  0.01841436 ...  0.00445128 -0.01418149\n",
      "  -0.00268289]\n",
      " [-0.01796103  0.00054265  0.02263794 ... -0.04014493 -0.01083051\n",
      "  -0.03547093]\n",
      " [-0.0184973   0.00106001  0.02486163 ...  0.02095449  0.00762785\n",
      "   0.02625014]]\n",
      "\n",
      "Eigenvalues:\n",
      " [ 4.36011826e+02  3.33300262e+02  2.19556982e+02 ... -1.29454871e-14\n",
      " -1.56951966e-14 -1.78480888e-14]\n",
      "\n",
      "Score Matrix:\n",
      " [[ 5387.46360114  -271.60174079   445.1302504  ...   -23.21182551\n",
      "    -26.62179482   -24.79150169]\n",
      " [ 5436.19359746  -499.56466057   184.5538535  ...   -18.86909718\n",
      "    -26.06673092   -20.35907898]\n",
      " [ 5145.84348769 -1028.39078648   100.90652393 ...   -22.18982976\n",
      "    -23.66073521   -25.09642907]\n",
      " ...\n",
      " [ 5880.95149502  -498.7725865    238.57991151 ...   -14.97887946\n",
      "    -24.76816534   -16.33508411]\n",
      " [ 6248.65303019  -592.82969139  -106.73885242 ...   -19.53451961\n",
      "    -24.26268528   -21.67667005]\n",
      " [ 5653.16462704  -555.90185739   447.56195044 ...   -17.74318021\n",
      "    -27.10507856   -20.08373984]]\n",
      "\n",
      "Scree Plot:\n",
      " [[ 4.36011826e+02  1.69259249e-01]\n",
      " [ 3.33300262e+02  2.98645997e-01]\n",
      " [ 2.19556982e+02  3.83877744e-01]\n",
      " ...\n",
      " [-1.29454871e-14  1.00000000e+00]\n",
      " [-1.56951966e-14  1.00000000e+00]\n",
      " [-1.78480888e-14  1.00000000e+00]]\n"
     ]
    },
    {
     "data": {
      "image/png": "[encoded data removed]",
      "text/plain": [
       "<Figure size 640x480 with 2 Axes>"
      ]
     },
     "metadata": {},
     "output_type": "display_data"
    }
   ],
   "source": [
    "# Question 5-4-a\n",
    "\n",
    "ORLface_data = []\n",
    "for i in range(1, 41):\n",
    "    for j in range(1,11):\n",
    "        image_dir = f\"/content/drive/MyDrive/DA/ORL Faces/{i}_{j}.png\"\n",
    "        img = Image.open(image_dir)\n",
    "        img_array = np.asarray(img)\n",
    "        ORLface_data.append(img_array.flatten())\n",
    "ORLface_data = np.array(ORLface_data)\n",
    "\n",
    "loading_matrix, eigenvalues, score_matrix, scree_plot = pca(ORLface_data, isCorrMX=True)\n",
    "\n",
    "print(\"Loading Matrix:\\n\", loading_matrix)\n",
    "print(\"\\nEigenvalues:\\n\", eigenvalues)\n",
    "print(\"\\nScore Matrix:\\n\", score_matrix)\n",
    "print(\"\\nScree Plot:\\n\", scree_plot)"
   ]
  },
  {
   "cell_type": "code",
   "execution_count": 29,
   "metadata": {
    "colab": {
     "base_uri": "https://localhost:8080/",
     "height": 160
    },
    "id": "ki5z-t4pcR5d",
    "outputId": "6413c79f-04ec-4f57-bf0d-a2c50bb4bb7a"
   },
   "outputs": [
    {
     "name": "stdout",
     "output_type": "stream",
     "text": [
      "50% explanable: 6  principal components\n",
      "60% explanable: 9  principal components\n",
      "70% explanable: 17  principal components\n",
      "80% explanable: 34  principal components\n",
      "90% explanable: 79  principal components\n"
     ]
    },
    {
     "data": {
      "image/png": "[encoded data removed]",
      "text/plain": [
       "<PIL.Image.Image image mode=L size=46x56 at 0x7F8C63878CD0>"
      ]
     },
     "metadata": {},
     "output_type": "display_data"
    }
   ],
   "source": [
    "criteria = edge(scree_plot[:, 1])\n",
    "print(\"50% explanable:\", criteria[0], \" principal components\")\n",
    "print(\"60% explanable:\", criteria[1], \" principal components\")\n",
    "print(\"70% explanable:\", criteria[2], \" principal components\")\n",
    "print(\"80% explanable:\", criteria[3], \" principal components\")\n",
    "print(\"90% explanable:\", criteria[4], \" principal components\")\n",
    "\n",
    "draw_picture(loading_matrix)"
   ]
  },
  {
   "cell_type": "code",
   "execution_count": 30,
   "metadata": {
    "colab": {
     "base_uri": "https://localhost:8080/",
     "height": 592
    },
    "id": "Sv33ZzKGHF3O",
    "outputId": "b6940602-dfd6-48b0-b770-3a81f1e844ee"
   },
   "outputs": [
    {
     "data": {
      "image/png": "[encoded data removed]",
      "text/plain": [
       "<Figure size 640x480 with 2 Axes>"
      ]
     },
     "metadata": {},
     "output_type": "display_data"
    },
    {
     "name": "stdout",
     "output_type": "stream",
     "text": [
      "50% explanable: 5  principal components\n",
      "60% explanable: 9  principal components\n",
      "70% explanable: 16  principal components\n",
      "80% explanable: 32  principal components\n",
      "90% explanable: 76  principal components\n"
     ]
    },
    {
     "data": {
      "image/png": "[encoded data removed]",
      "text/plain": [
       "<PIL.Image.Image image mode=L size=46x56 at 0x7F8C65031FD0>"
      ]
     },
     "metadata": {},
     "output_type": "display_data"
    }
   ],
   "source": [
    "# Question 5-4-b\n",
    "loading_matrix, eigenvalues, score_matrix, scree_plot = pca(ORLface_data, isCorrMX=False)\n",
    "plt.show()\n",
    "\n",
    "criteria = edge(scree_plot[:, 1])\n",
    "print(\"50% explanable:\", criteria[0], \" principal components\")\n",
    "print(\"60% explanable:\", criteria[1], \" principal components\")\n",
    "print(\"70% explanable:\", criteria[2], \" principal components\")\n",
    "print(\"80% explanable:\", criteria[3], \" principal components\")\n",
    "print(\"90% explanable:\", criteria[4], \" principal components\")\n",
    "\n",
    "draw_picture(loading_matrix)"
   ]
  },
  {
   "cell_type": "markdown",
   "metadata": {
    "id": "ZjQk5vQo24UG"
   },
   "source": [
    "We can see that:\n",
    "\n",
    "Using correlation matrix, they are:\n",
    "\n",
    "* 50% explanable: 6  principal components\n",
    "* 60% explanable: 9  principal components\n",
    "* 70% explanable: 17  principal components\n",
    "* 80% explanable: 34  principal components\n",
    "* 90% explanable: 79  principal components\n",
    "\n",
    "Using covariance matrix, they are:\n",
    "\n",
    "* 50% explanable: 5  principal components\n",
    "* 60% explanable: 9  principal components\n",
    "* 70% explanable: 16  principal components\n",
    "* 80% explanable: 32  principal components\n",
    "* 90% explanable: 76  principal components\n",
    "\n",
    "the covariance matrix is a bit better than correlation matrix."
   ]
  }
 ],
 "metadata": {
  "colab": {
   "provenance": []
  },
  "kernelspec": {
   "display_name": "Python 3 (ipykernel)",
   "language": "python",
   "name": "python3"
  },
  "language_info": {
   "codemirror_mode": {
    "name": "ipython",
    "version": 3
   },
   "file_extension": ".py",
   "mimetype": "text/x-python",
   "name": "python",
   "nbconvert_exporter": "python",
   "pygments_lexer": "ipython3",
   "version": "3.9.12"
  }
 },
 "nbformat": 4,
 "nbformat_minor": 1
}
